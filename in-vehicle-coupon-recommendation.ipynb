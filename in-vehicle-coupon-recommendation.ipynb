{
 "cells": [
  {
   "cell_type": "markdown",
   "id": "a5f1a43d",
   "metadata": {},
   "source": [
    "# Loading the data"
   ]
  },
  {
   "cell_type": "code",
   "execution_count": 35,
   "id": "0d349a9c",
   "metadata": {},
   "outputs": [],
   "source": [
    "import pandas as pd\n",
    "\n",
    "data = pd.read_csv(\"data/in-vehicle-coupon-recommendation.csv\")\n",
    "\n",
    "# print(data.head())"
   ]
  },
  {
   "cell_type": "markdown",
   "id": "048538c3",
   "metadata": {},
   "source": [
    "# Preparing the data"
   ]
  },
  {
   "cell_type": "markdown",
   "id": "c1cbfc8c",
   "metadata": {},
   "source": [
    "One of our features has mixed values. That is the feature age and the possible values are the following: \"21, 46, 26, 31, 41, 50plus, 36, below21\". For that reason we will try to engineer new columns based on this one, we will try 2 options: converting it to numeric values and categorical and we'll see which one does better for our models. "
   ]
  },
  {
   "cell_type": "code",
   "execution_count": null,
   "id": "06ae8a54",
   "metadata": {},
   "outputs": [],
   "source": [
    "import matplotlib.pyplot as plt\n",
    "\n",
    "def map_age(value):\n",
    "    try:\n",
    "        value = int(value)\n",
    "        if value < 21:\n",
    "            return \"<21\"\n",
    "        elif value <= 30:\n",
    "            return \"21-30\"\n",
    "        elif value <= 40:\n",
    "            return \"31-40\"\n",
    "        elif value <= 50:\n",
    "            return \"41-50\"\n",
    "        else:\n",
    "            return \"51+\"\n",
    "    except:\n",
    "        if str(value).lower() == \"below21\":\n",
    "            return \"<21\"\n",
    "        elif str(value).lower() == \"50plus\":\n",
    "            return \"51+\"\n",
    "        else:\n",
    "            return \"Unknown\"\n",
    "        \n",
    "\n",
    "def convert_age_numeric(value):\n",
    "    try:\n",
    "        return int(value)\n",
    "    except:\n",
    "        if str(value).lower() == \"below21\":\n",
    "            return 20\n",
    "        elif str(value).lower() == \"50plus\":\n",
    "            return 55\n",
    "        else:\n",
    "            return None\n",
    "\n",
    "\n",
    "data['age_numeric'] = data['age'].apply(convert_age_numeric)\n",
    "data['age_group'] = data['age'].apply(map_age)\n",
    "data = data.drop(['car','age'], axis=1)\n",
    "#print(data['age_numeric'])\n",
    "#print(data.head())\n",
    "\n"
   ]
  },
  {
   "cell_type": "markdown",
   "id": "1a62a158",
   "metadata": {},
   "source": [
    "For categorical data like destination, passanger, weather, coupon, gender, marital status, occupation we will use one-hot encoding, which is good for nominal data, when there is no order/ranking between the categories. \n",
    "\n",
    "We are going to drop the feature car, because our dataset includes values of this feature for only 109 records. "
   ]
  },
  {
   "cell_type": "code",
   "execution_count": 37,
   "id": "d022385e",
   "metadata": {},
   "outputs": [],
   "source": [
    "from sklearn.preprocessing import OneHotEncoder\n",
    "from sklearn.pipeline import Pipeline\n",
    "from sklearn.compose import ColumnTransformer\n",
    "from sklearn.model_selection import train_test_split\n",
    "\n",
    "\n",
    "nominal_cat_features = ['destination', 'passanger', 'weather', 'coupon', 'gender', 'maritalStatus', 'occupation']\n",
    "\n",
    "seed = 7\n",
    "X = data.drop('Y', axis=1)\n",
    "y = data['Y']\n",
    "\n",
    "X_train, X_test, y_train, y_test = train_test_split(X, y, test_size=0.2, random_state=seed)\n",
    "\n",
    "\n",
    "one_hot_encoder = Pipeline(steps=[\n",
    "    ('onehot', OneHotEncoder(handle_unknown='ignore'))\n",
    "])\n"
   ]
  },
  {
   "cell_type": "markdown",
   "id": "2e86d31e",
   "metadata": {},
   "source": [
    "For the rest of the categorical data we will use a different method of encoding because these are considered ordinal data, where categories have order/ranking. Some of these features also have missing values, so we will replace them with the most frequent value of the category.\n",
    "\n",
    "We also give the order of the categories for the processor to know the correct order and give correct importance.\n"
   ]
  },
  {
   "cell_type": "code",
   "execution_count": 38,
   "id": "c1c557dd",
   "metadata": {},
   "outputs": [],
   "source": [
    "from sklearn.impute import SimpleImputer\n",
    "from sklearn.preprocessing import OrdinalEncoder\n",
    "\n",
    "ordinal_cat_features = ['expiration', 'education', 'Bar', 'CoffeeHouse', 'CarryAway', 'RestaurantLessThan20', 'Restaurant20To50']\n",
    "\n",
    "ordinal_categories = [\n",
    "    ['2h', '1d'],   # expiration\n",
    "    ['Some High School','High School Graduate', 'Some college - no degree', 'Associates degree', 'Bachelors degree', 'Graduate degree (Masters or Doctorate)'], # education\n",
    "    ['never', 'less1', '1~3', '4~8', 'gt8'],    # Bar\n",
    "    ['never', 'less1', '1~3', '4~8', 'gt8'],    # CoffeeHouse\n",
    "    ['never', 'less1', '1~3', '4~8', 'gt8'],    # CarryAway\n",
    "    ['never', 'less1', '1~3', '4~8', 'gt8'],    # RestaurantLessThan20\n",
    "    ['never', 'less1', '1~3', '4~8', 'gt8']     # Restaurant20To50\n",
    "]\n",
    "\n",
    "ordinal_encoder = Pipeline(steps=[\n",
    "    ('imputer', SimpleImputer(strategy='most_frequent')),\n",
    "    ('ordinal', OrdinalEncoder(categories=ordinal_categories))\n",
    "])\n",
    "\n",
    "preprocessor = ColumnTransformer(transformers = [\n",
    "    ('nom', one_hot_encoder, nominal_cat_features),\n",
    "    ('ord', ordinal_encoder, ordinal_cat_features)\n",
    "])\n",
    "\n",
    "X_processed = preprocessor.fit_transform(X_train)\n"
   ]
  }
 ],
 "metadata": {
  "kernelspec": {
   "display_name": "base",
   "language": "python",
   "name": "python3"
  },
  "language_info": {
   "codemirror_mode": {
    "name": "ipython",
    "version": 3
   },
   "file_extension": ".py",
   "mimetype": "text/x-python",
   "name": "python",
   "nbconvert_exporter": "python",
   "pygments_lexer": "ipython3",
   "version": "3.12.7"
  }
 },
 "nbformat": 4,
 "nbformat_minor": 5
}
